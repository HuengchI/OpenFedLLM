{
 "cells": [
  {
   "cell_type": "code",
   "execution_count": 2,
   "metadata": {},
   "outputs": [],
   "source": [
    "import pandas as pd\n",
    "import pickle"
   ]
  },
  {
   "cell_type": "code",
   "execution_count": 3,
   "metadata": {},
   "outputs": [],
   "source": [
    "def read_pickle_file(file_path):\n",
    "    try:\n",
    "        with open(file_path, 'rb') as file:\n",
    "            data = pickle.load(file)\n",
    "            return data\n",
    "    except FileNotFoundError:\n",
    "        print(\"File not found. Please provide a valid file path.\")\n",
    "    except Exception as e:\n",
    "        print(\"An error occurred: \", e)"
   ]
  },
  {
   "cell_type": "code",
   "execution_count": 4,
   "metadata": {},
   "outputs": [],
   "source": [
    "ds = read_pickle_file('/data/huengchi/Research/SPEER/Datasets_Processed/0-0-0-5284_LLM_FT_Dataset_len_6.0K_BIOS_ner.pkl')"
   ]
  },
  {
   "cell_type": "code",
   "execution_count": 5,
   "metadata": {},
   "outputs": [
    {
     "data": {
      "text/plain": [
       "Index(['example_id', 'source', 'target', 'len_src_tok', 'len_tgt_tok',\n",
       "       'len_total_tok', 'source_ner_res', 'target_ner_res'],\n",
       "      dtype='object')"
      ]
     },
     "execution_count": 5,
     "metadata": {},
     "output_type": "execute_result"
    }
   ],
   "source": [
    "ds.columns"
   ]
  },
  {
   "cell_type": "code",
   "execution_count": 6,
   "metadata": {},
   "outputs": [],
   "source": [
    "# ds=ds[['example_id', 'source', 'target']]\n",
    "ds=ds[['example_id', 'source', 'target', 'len_src_tok', 'len_tgt_tok', 'len_total_tok']]"
   ]
  },
  {
   "cell_type": "code",
   "execution_count": 7,
   "metadata": {},
   "outputs": [],
   "source": [
    "df_shuffled = ds.sample(frac=1,random_state=42).reset_index(drop=True)"
   ]
  },
  {
   "cell_type": "code",
   "execution_count": 8,
   "metadata": {},
   "outputs": [],
   "source": [
    "train_size = 0.9463\n",
    "train_index = int(len(df_shuffled) * train_size)"
   ]
  },
  {
   "cell_type": "code",
   "execution_count": 9,
   "metadata": {},
   "outputs": [
    {
     "data": {
      "text/plain": [
       "(5284, 6)"
      ]
     },
     "execution_count": 9,
     "metadata": {},
     "output_type": "execute_result"
    }
   ],
   "source": [
    "df_shuffled.shape"
   ]
  },
  {
   "cell_type": "code",
   "execution_count": 10,
   "metadata": {},
   "outputs": [],
   "source": [
    "train_set = df_shuffled[:train_index]\n",
    "test_set = df_shuffled[train_index:]"
   ]
  },
  {
   "cell_type": "code",
   "execution_count": 48,
   "metadata": {},
   "outputs": [
    {
     "data": {
      "text/html": [
       "<div>\n",
       "<style scoped>\n",
       "    .dataframe tbody tr th:only-of-type {\n",
       "        vertical-align: middle;\n",
       "    }\n",
       "\n",
       "    .dataframe tbody tr th {\n",
       "        vertical-align: top;\n",
       "    }\n",
       "\n",
       "    .dataframe thead th {\n",
       "        text-align: right;\n",
       "    }\n",
       "</style>\n",
       "<table border=\"1\" class=\"dataframe\">\n",
       "  <thead>\n",
       "    <tr style=\"text-align: right;\">\n",
       "      <th></th>\n",
       "      <th>example_id</th>\n",
       "      <th>source</th>\n",
       "      <th>target</th>\n",
       "    </tr>\n",
       "  </thead>\n",
       "  <tbody>\n",
       "    <tr>\n",
       "      <th>0</th>\n",
       "      <td>42067_110395</td>\n",
       "      <td>11:37 PM CT HEAD W O CONTRAST Clip # Reason: e...</td>\n",
       "      <td>Patient with acute mental status change found ...</td>\n",
       "    </tr>\n",
       "    <tr>\n",
       "      <th>1</th>\n",
       "      <td>12566_111958</td>\n",
       "      <td>Sinus rhythm Early transition Since previous t...</td>\n",
       "      <td>1 ASTHMA FLARE: Pt's presentation was consiste...</td>\n",
       "    </tr>\n",
       "    <tr>\n",
       "      <th>2</th>\n",
       "      <td>21957_114837</td>\n",
       "      <td>Sinus rhythm Left ventricular hypertrophy QS i...</td>\n",
       "      <td>A P: A P: 44yo male with HIV CD4 of 123 and VL...</td>\n",
       "    </tr>\n",
       "    <tr>\n",
       "      <th>3</th>\n",
       "      <td>22573_115337</td>\n",
       "      <td>Sinus rhythm Conduction defect of RBBB type In...</td>\n",
       "      <td>The patient was taken to the Operating Room on...</td>\n",
       "    </tr>\n",
       "    <tr>\n",
       "      <th>4</th>\n",
       "      <td>6990_115527</td>\n",
       "      <td>Sinus bradycardia Left atrial abnormality Left...</td>\n",
       "      <td>Pt is a 88 year old female with remote hx of C...</td>\n",
       "    </tr>\n",
       "    <tr>\n",
       "      <th>...</th>\n",
       "      <td>...</td>\n",
       "      <td>...</td>\n",
       "      <td>...</td>\n",
       "    </tr>\n",
       "    <tr>\n",
       "      <th>4995</th>\n",
       "      <td>88740_101643</td>\n",
       "      <td>Sinus tachycardia. Non-specific ST-T wave chan...</td>\n",
       "      <td>Ms. was admitted to the TSICU after her operat...</td>\n",
       "    </tr>\n",
       "    <tr>\n",
       "      <th>4996</th>\n",
       "      <td>17660_115192</td>\n",
       "      <td>Sinus rhythm. Low limb lead voltage. Early R w...</td>\n",
       "      <td>The patient was admitted to the Medical Intens...</td>\n",
       "    </tr>\n",
       "    <tr>\n",
       "      <th>4997</th>\n",
       "      <td>65906_104005</td>\n",
       "      <td>Sinus rhythm. Right bundle-branch block. Promi...</td>\n",
       "      <td>The patient was admitted to the general surger...</td>\n",
       "    </tr>\n",
       "    <tr>\n",
       "      <th>4998</th>\n",
       "      <td>32178_109473</td>\n",
       "      <td>Admission Note Baby admitted to NICU for Cardi...</td>\n",
       "      <td>Respiratory. There were no issues. Breath soun...</td>\n",
       "    </tr>\n",
       "    <tr>\n",
       "      <th>4999</th>\n",
       "      <td>15704_110784</td>\n",
       "      <td>Sinus rhythm Inferior T wave changes are nonsp...</td>\n",
       "      <td>The patient was admitted to the ICU for q1 hou...</td>\n",
       "    </tr>\n",
       "  </tbody>\n",
       "</table>\n",
       "<p>5000 rows × 3 columns</p>\n",
       "</div>"
      ],
      "text/plain": [
       "        example_id                                             source  \\\n",
       "0     42067_110395  11:37 PM CT HEAD W O CONTRAST Clip # Reason: e...   \n",
       "1     12566_111958  Sinus rhythm Early transition Since previous t...   \n",
       "2     21957_114837  Sinus rhythm Left ventricular hypertrophy QS i...   \n",
       "3     22573_115337  Sinus rhythm Conduction defect of RBBB type In...   \n",
       "4      6990_115527  Sinus bradycardia Left atrial abnormality Left...   \n",
       "...            ...                                                ...   \n",
       "4995  88740_101643  Sinus tachycardia. Non-specific ST-T wave chan...   \n",
       "4996  17660_115192  Sinus rhythm. Low limb lead voltage. Early R w...   \n",
       "4997  65906_104005  Sinus rhythm. Right bundle-branch block. Promi...   \n",
       "4998  32178_109473  Admission Note Baby admitted to NICU for Cardi...   \n",
       "4999  15704_110784  Sinus rhythm Inferior T wave changes are nonsp...   \n",
       "\n",
       "                                                 target  \n",
       "0     Patient with acute mental status change found ...  \n",
       "1     1 ASTHMA FLARE: Pt's presentation was consiste...  \n",
       "2     A P: A P: 44yo male with HIV CD4 of 123 and VL...  \n",
       "3     The patient was taken to the Operating Room on...  \n",
       "4     Pt is a 88 year old female with remote hx of C...  \n",
       "...                                                 ...  \n",
       "4995  Ms. was admitted to the TSICU after her operat...  \n",
       "4996  The patient was admitted to the Medical Intens...  \n",
       "4997  The patient was admitted to the general surger...  \n",
       "4998  Respiratory. There were no issues. Breath soun...  \n",
       "4999  The patient was admitted to the ICU for q1 hou...  \n",
       "\n",
       "[5000 rows x 3 columns]"
      ]
     },
     "execution_count": 48,
     "metadata": {},
     "output_type": "execute_result"
    }
   ],
   "source": [
    "train_set"
   ]
  },
  {
   "cell_type": "code",
   "execution_count": 14,
   "metadata": {},
   "outputs": [
    {
     "data": {
      "text/html": [
       "<div>\n",
       "<style scoped>\n",
       "    .dataframe tbody tr th:only-of-type {\n",
       "        vertical-align: middle;\n",
       "    }\n",
       "\n",
       "    .dataframe tbody tr th {\n",
       "        vertical-align: top;\n",
       "    }\n",
       "\n",
       "    .dataframe thead th {\n",
       "        text-align: right;\n",
       "    }\n",
       "</style>\n",
       "<table border=\"1\" class=\"dataframe\">\n",
       "  <thead>\n",
       "    <tr style=\"text-align: right;\">\n",
       "      <th></th>\n",
       "      <th>example_id</th>\n",
       "      <th>source</th>\n",
       "      <th>target</th>\n",
       "      <th>len_src_tok</th>\n",
       "      <th>len_tgt_tok</th>\n",
       "      <th>len_total_tok</th>\n",
       "    </tr>\n",
       "  </thead>\n",
       "  <tbody>\n",
       "    <tr>\n",
       "      <th>5245</th>\n",
       "      <td>9143_106098</td>\n",
       "      <td>Brady arrhbythmia - mechanism uncertain - junc...</td>\n",
       "      <td>Cardiovascular: Mrs. had positive troponins bu...</td>\n",
       "      <td>2949</td>\n",
       "      <td>873</td>\n",
       "      <td>3822</td>\n",
       "    </tr>\n",
       "    <tr>\n",
       "      <th>5000</th>\n",
       "      <td>84179_115101</td>\n",
       "      <td>Artifact is present. Sinus rhythm. Probably no...</td>\n",
       "      <td>57 year old male with pmh of decompensated Hep...</td>\n",
       "      <td>2972</td>\n",
       "      <td>1103</td>\n",
       "      <td>4075</td>\n",
       "    </tr>\n",
       "    <tr>\n",
       "      <th>5247</th>\n",
       "      <td>10320_109761</td>\n",
       "      <td>Sinus rhythm Low voltage Consider anteroseptal...</td>\n",
       "      <td>Once the patient was consented, the patient wa...</td>\n",
       "      <td>3008</td>\n",
       "      <td>1559</td>\n",
       "      <td>4567</td>\n",
       "    </tr>\n",
       "    <tr>\n",
       "      <th>5212</th>\n",
       "      <td>7297_115630</td>\n",
       "      <td>Sinus rhythm, rate 96. Left atrial abnormality...</td>\n",
       "      <td>The patient was transferred to CCU team. 1. Ca...</td>\n",
       "      <td>3011</td>\n",
       "      <td>958</td>\n",
       "      <td>3969</td>\n",
       "    </tr>\n",
       "    <tr>\n",
       "      <th>5251</th>\n",
       "      <td>2809_100426</td>\n",
       "      <td>Sinus rhythm. Low limb lead voltage. T wave in...</td>\n",
       "      <td>The patient is an 85 yo woman w transfusion de...</td>\n",
       "      <td>3015</td>\n",
       "      <td>690</td>\n",
       "      <td>3705</td>\n",
       "    </tr>\n",
       "    <tr>\n",
       "      <th>...</th>\n",
       "      <td>...</td>\n",
       "      <td>...</td>\n",
       "      <td>...</td>\n",
       "      <td>...</td>\n",
       "      <td>...</td>\n",
       "      <td>...</td>\n",
       "    </tr>\n",
       "    <tr>\n",
       "      <th>5144</th>\n",
       "      <td>46205_118871</td>\n",
       "      <td>Sinus rhythm. Normal tracing. Compared to the ...</td>\n",
       "      <td>Patient was admitted to the West 2A surgical s...</td>\n",
       "      <td>5371</td>\n",
       "      <td>760</td>\n",
       "      <td>6131</td>\n",
       "    </tr>\n",
       "    <tr>\n",
       "      <th>5198</th>\n",
       "      <td>13960_103876</td>\n",
       "      <td>12:46 PM CHEST PORTABLE AP Clip # Reason: r o ...</td>\n",
       "      <td>A P: 47 yo with COPD admitted with increasing ...</td>\n",
       "      <td>5454</td>\n",
       "      <td>527</td>\n",
       "      <td>5981</td>\n",
       "    </tr>\n",
       "    <tr>\n",
       "      <th>5211</th>\n",
       "      <td>32367_116509</td>\n",
       "      <td>Sinus tachycardia with atrial premature beats....</td>\n",
       "      <td>64M with h o falls presents s p fall while int...</td>\n",
       "      <td>5506</td>\n",
       "      <td>236</td>\n",
       "      <td>5742</td>\n",
       "    </tr>\n",
       "    <tr>\n",
       "      <th>5021</th>\n",
       "      <td>90890_112210</td>\n",
       "      <td>Sinus bradycardia. The Q-T interval is prolong...</td>\n",
       "      <td>Patient was admitted to the Vascular Surgery s...</td>\n",
       "      <td>5586</td>\n",
       "      <td>406</td>\n",
       "      <td>5992</td>\n",
       "    </tr>\n",
       "    <tr>\n",
       "      <th>5046</th>\n",
       "      <td>68140_112268</td>\n",
       "      <td>Sinus tachycardia with occasional premature at...</td>\n",
       "      <td>83 year old man with a h o of metastatic bladd...</td>\n",
       "      <td>5972</td>\n",
       "      <td>111</td>\n",
       "      <td>6083</td>\n",
       "    </tr>\n",
       "  </tbody>\n",
       "</table>\n",
       "<p>94 rows × 6 columns</p>\n",
       "</div>"
      ],
      "text/plain": [
       "        example_id                                             source  \\\n",
       "5245   9143_106098  Brady arrhbythmia - mechanism uncertain - junc...   \n",
       "5000  84179_115101  Artifact is present. Sinus rhythm. Probably no...   \n",
       "5247  10320_109761  Sinus rhythm Low voltage Consider anteroseptal...   \n",
       "5212   7297_115630  Sinus rhythm, rate 96. Left atrial abnormality...   \n",
       "5251   2809_100426  Sinus rhythm. Low limb lead voltage. T wave in...   \n",
       "...            ...                                                ...   \n",
       "5144  46205_118871  Sinus rhythm. Normal tracing. Compared to the ...   \n",
       "5198  13960_103876  12:46 PM CHEST PORTABLE AP Clip # Reason: r o ...   \n",
       "5211  32367_116509  Sinus tachycardia with atrial premature beats....   \n",
       "5021  90890_112210  Sinus bradycardia. The Q-T interval is prolong...   \n",
       "5046  68140_112268  Sinus tachycardia with occasional premature at...   \n",
       "\n",
       "                                                 target  len_src_tok  \\\n",
       "5245  Cardiovascular: Mrs. had positive troponins bu...         2949   \n",
       "5000  57 year old male with pmh of decompensated Hep...         2972   \n",
       "5247  Once the patient was consented, the patient wa...         3008   \n",
       "5212  The patient was transferred to CCU team. 1. Ca...         3011   \n",
       "5251  The patient is an 85 yo woman w transfusion de...         3015   \n",
       "...                                                 ...          ...   \n",
       "5144  Patient was admitted to the West 2A surgical s...         5371   \n",
       "5198  A P: 47 yo with COPD admitted with increasing ...         5454   \n",
       "5211  64M with h o falls presents s p fall while int...         5506   \n",
       "5021  Patient was admitted to the Vascular Surgery s...         5586   \n",
       "5046  83 year old man with a h o of metastatic bladd...         5972   \n",
       "\n",
       "      len_tgt_tok  len_total_tok  \n",
       "5245          873           3822  \n",
       "5000         1103           4075  \n",
       "5247         1559           4567  \n",
       "5212          958           3969  \n",
       "5251          690           3705  \n",
       "...           ...            ...  \n",
       "5144          760           6131  \n",
       "5198          527           5981  \n",
       "5211          236           5742  \n",
       "5021          406           5992  \n",
       "5046          111           6083  \n",
       "\n",
       "[94 rows x 6 columns]"
      ]
     },
     "execution_count": 14,
     "metadata": {},
     "output_type": "execute_result"
    }
   ],
   "source": [
    "test_set.sort_values(by='len_src_tok')[190:]"
   ]
  },
  {
   "cell_type": "code",
   "execution_count": 51,
   "metadata": {},
   "outputs": [],
   "source": [
    "train_set.to_json(f'train_{train_set.shape[0]}.jsonl', orient='records', lines=True)"
   ]
  },
  {
   "cell_type": "code",
   "execution_count": 52,
   "metadata": {},
   "outputs": [],
   "source": [
    "test_set.to_json(f'test_{test_set.shape[0]}.jsonl', orient='records', lines=True)"
   ]
  },
  {
   "cell_type": "code",
   "execution_count": null,
   "metadata": {},
   "outputs": [],
   "source": []
  }
 ],
 "metadata": {
  "kernelspec": {
   "display_name": "torch-2.1-py-3.10",
   "language": "python",
   "name": "python3"
  },
  "language_info": {
   "codemirror_mode": {
    "name": "ipython",
    "version": 3
   },
   "file_extension": ".py",
   "mimetype": "text/x-python",
   "name": "python",
   "nbconvert_exporter": "python",
   "pygments_lexer": "ipython3",
   "version": "3.10.13"
  }
 },
 "nbformat": 4,
 "nbformat_minor": 2
}
