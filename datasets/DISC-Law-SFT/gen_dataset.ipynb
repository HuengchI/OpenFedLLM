{
 "cells": [
  {
   "cell_type": "code",
   "execution_count": 1,
   "metadata": {},
   "outputs": [],
   "source": [
    "git_repo = \"https://huggingface.co/datasets/ShengbinYue/DISC-Law-SFT.git\""
   ]
  },
  {
   "cell_type": "code",
   "execution_count": 2,
   "metadata": {},
   "outputs": [
    {
     "name": "stdout",
     "output_type": "stream",
     "text": [
      "fatal: destination path 'DISC-Law-SFT' already exists and is not an empty directory.\n"
     ]
    }
   ],
   "source": [
    "!git clone {git_repo}"
   ]
  },
  {
   "cell_type": "code",
   "execution_count": 3,
   "metadata": {},
   "outputs": [
    {
     "name": "stdout",
     "output_type": "stream",
     "text": [
      "/data/huengchi/Research/OpenFedLLM/datasets/DISC-Law-SFT/DISC-Law-SFT /data/huengchi/Research/OpenFedLLM/datasets/DISC-Law-SFT\n",
      "Updated git hooks.\n",
      "Git LFS initialized.\n",
      "/data/huengchi/Research/OpenFedLLM/datasets/DISC-Law-SFT\n"
     ]
    }
   ],
   "source": [
    "%%bash\n",
    "\n",
    "pushd \"DISC-Law-SFT\"\n",
    "git lfs install\n",
    "git lfs pull\n",
    "popd"
   ]
  },
  {
   "cell_type": "code",
   "execution_count": 4,
   "metadata": {},
   "outputs": [],
   "source": [
    "import pandas as pd\n",
    "import os"
   ]
  },
  {
   "cell_type": "code",
   "execution_count": 5,
   "metadata": {},
   "outputs": [],
   "source": [
    "ds = pd.read_json('DISC-Law-SFT/DISC-Law-SFT-Pair.jsonl', lines=True)"
   ]
  },
  {
   "cell_type": "code",
   "execution_count": 6,
   "metadata": {},
   "outputs": [
    {
     "data": {
      "text/html": [
       "<div>\n",
       "<style scoped>\n",
       "    .dataframe tbody tr th:only-of-type {\n",
       "        vertical-align: middle;\n",
       "    }\n",
       "\n",
       "    .dataframe tbody tr th {\n",
       "        vertical-align: top;\n",
       "    }\n",
       "\n",
       "    .dataframe thead th {\n",
       "        text-align: right;\n",
       "    }\n",
       "</style>\n",
       "<table border=\"1\" class=\"dataframe\">\n",
       "  <thead>\n",
       "    <tr style=\"text-align: right;\">\n",
       "      <th></th>\n",
       "      <th>id</th>\n",
       "      <th>input</th>\n",
       "      <th>output</th>\n",
       "    </tr>\n",
       "  </thead>\n",
       "  <tbody>\n",
       "    <tr>\n",
       "      <th>0</th>\n",
       "      <td>jud_doc_sum-1</td>\n",
       "      <td>请大致描述这篇文书的内容。\\n\\n唐鲜明与何伟华、深圳市华名威电汽车服务有限公司侵权责任纠纷...</td>\n",
       "      <td>总结：原告与被告侵权责任纠纷一案。原告提出诉求：判决被告赔偿原告医疗费、住院伙食补助费、营养...</td>\n",
       "    </tr>\n",
       "    <tr>\n",
       "      <th>1</th>\n",
       "      <td>jud_doc_sum-2</td>\n",
       "      <td>这是一篇法律文书\\n阳晓红、宁运豪等与许绪发、许先平等租赁合同纠纷一审民事判决书\\n湖南省衡...</td>\n",
       "      <td>总结：本案系租赁合同纠纷。原告提出诉求，请求判令三被告支付租金、违约金及逾期利息损失。被告许...</td>\n",
       "    </tr>\n",
       "    <tr>\n",
       "      <th>2</th>\n",
       "      <td>jud_doc_sum-3</td>\n",
       "      <td>苏州市春秋汽车服务有限公司、周志斗与岳治国租赁合同纠纷一审民事判决书\\n江苏省阜宁县人民法院...</td>\n",
       "      <td>总结：本案系租赁合同纠纷。原告提出诉求要求被告偿还租车费及逾期利息。被告未作答辩。经审理原被...</td>\n",
       "    </tr>\n",
       "    <tr>\n",
       "      <th>3</th>\n",
       "      <td>jud_doc_sum-4</td>\n",
       "      <td>请归纳这篇文书的大致要点：\\n\\n闫志钢与天津晶悦酒店有限公司侵权责任纠纷一审民事判决书\\n...</td>\n",
       "      <td>总结：原告与被告侵权责任纠纷一案。原告提出诉求：1、被告支付原告工资损失2、被告赔偿原告养老...</td>\n",
       "    </tr>\n",
       "    <tr>\n",
       "      <th>4</th>\n",
       "      <td>jud_doc_sum-5</td>\n",
       "      <td>广州市某数码科技有限公司与曾某劳动合同纠纷一审民事判决书\\n广东省广州市番禺区人民法院\\n民...</td>\n",
       "      <td>原被告系劳动合同纠纷。原告诉称应支付被告代通知金4102.68元、经济补偿金9680.84元...</td>\n",
       "    </tr>\n",
       "    <tr>\n",
       "      <th>...</th>\n",
       "      <td>...</td>\n",
       "      <td>...</td>\n",
       "      <td>...</td>\n",
       "    </tr>\n",
       "    <tr>\n",
       "      <th>166753</th>\n",
       "      <td>sim_case_match-8134</td>\n",
       "      <td>根据案例A的内容,判断A更接近于案例B还是案例C,结果以{'LABEL': B_C}的格式给...</td>\n",
       "      <td>{\"LABEL\":\"C\"}</td>\n",
       "    </tr>\n",
       "    <tr>\n",
       "      <th>166754</th>\n",
       "      <td>sim_case_match-8135</td>\n",
       "      <td>根据案例A的内容,判断A更接近于案例B还是案例C,结果以{'LABEL': B_C}的格式给...</td>\n",
       "      <td>{\"LABEL\":\"B\"}</td>\n",
       "    </tr>\n",
       "    <tr>\n",
       "      <th>166755</th>\n",
       "      <td>sim_case_match-8136</td>\n",
       "      <td>根据案例A的内容,判断A更接近于案例B还是案例C,结果以{'LABEL': B_C}的格式给...</td>\n",
       "      <td>{\"LABEL\":\"B\"}</td>\n",
       "    </tr>\n",
       "    <tr>\n",
       "      <th>166756</th>\n",
       "      <td>sim_case_match-8137</td>\n",
       "      <td>根据案例A的内容,判断A更接近于案例B还是案例C,结果以{'LABEL': B_C}的格式给...</td>\n",
       "      <td>{\"LABEL\":\"B\"}</td>\n",
       "    </tr>\n",
       "    <tr>\n",
       "      <th>166757</th>\n",
       "      <td>sim_case_match-8138</td>\n",
       "      <td>根据案例A的内容,判断A更接近于案例B还是案例C,结果以{'LABEL': B_C}的格式给...</td>\n",
       "      <td>{\"LABEL\":\"B\"}</td>\n",
       "    </tr>\n",
       "  </tbody>\n",
       "</table>\n",
       "<p>166758 rows × 3 columns</p>\n",
       "</div>"
      ],
      "text/plain": [
       "                         id  \\\n",
       "0             jud_doc_sum-1   \n",
       "1             jud_doc_sum-2   \n",
       "2             jud_doc_sum-3   \n",
       "3             jud_doc_sum-4   \n",
       "4             jud_doc_sum-5   \n",
       "...                     ...   \n",
       "166753  sim_case_match-8134   \n",
       "166754  sim_case_match-8135   \n",
       "166755  sim_case_match-8136   \n",
       "166756  sim_case_match-8137   \n",
       "166757  sim_case_match-8138   \n",
       "\n",
       "                                                    input  \\\n",
       "0       请大致描述这篇文书的内容。\\n\\n唐鲜明与何伟华、深圳市华名威电汽车服务有限公司侵权责任纠纷...   \n",
       "1       这是一篇法律文书\\n阳晓红、宁运豪等与许绪发、许先平等租赁合同纠纷一审民事判决书\\n湖南省衡...   \n",
       "2       苏州市春秋汽车服务有限公司、周志斗与岳治国租赁合同纠纷一审民事判决书\\n江苏省阜宁县人民法院...   \n",
       "3       请归纳这篇文书的大致要点：\\n\\n闫志钢与天津晶悦酒店有限公司侵权责任纠纷一审民事判决书\\n...   \n",
       "4       广州市某数码科技有限公司与曾某劳动合同纠纷一审民事判决书\\n广东省广州市番禺区人民法院\\n民...   \n",
       "...                                                   ...   \n",
       "166753  根据案例A的内容,判断A更接近于案例B还是案例C,结果以{'LABEL': B_C}的格式给...   \n",
       "166754  根据案例A的内容,判断A更接近于案例B还是案例C,结果以{'LABEL': B_C}的格式给...   \n",
       "166755  根据案例A的内容,判断A更接近于案例B还是案例C,结果以{'LABEL': B_C}的格式给...   \n",
       "166756  根据案例A的内容,判断A更接近于案例B还是案例C,结果以{'LABEL': B_C}的格式给...   \n",
       "166757  根据案例A的内容,判断A更接近于案例B还是案例C,结果以{'LABEL': B_C}的格式给...   \n",
       "\n",
       "                                                   output  \n",
       "0       总结：原告与被告侵权责任纠纷一案。原告提出诉求：判决被告赔偿原告医疗费、住院伙食补助费、营养...  \n",
       "1       总结：本案系租赁合同纠纷。原告提出诉求，请求判令三被告支付租金、违约金及逾期利息损失。被告许...  \n",
       "2       总结：本案系租赁合同纠纷。原告提出诉求要求被告偿还租车费及逾期利息。被告未作答辩。经审理原被...  \n",
       "3       总结：原告与被告侵权责任纠纷一案。原告提出诉求：1、被告支付原告工资损失2、被告赔偿原告养老...  \n",
       "4       原被告系劳动合同纠纷。原告诉称应支付被告代通知金4102.68元、经济补偿金9680.84元...  \n",
       "...                                                   ...  \n",
       "166753                                      {\"LABEL\":\"C\"}  \n",
       "166754                                      {\"LABEL\":\"B\"}  \n",
       "166755                                      {\"LABEL\":\"B\"}  \n",
       "166756                                      {\"LABEL\":\"B\"}  \n",
       "166757                                      {\"LABEL\":\"B\"}  \n",
       "\n",
       "[166758 rows x 3 columns]"
      ]
     },
     "execution_count": 6,
     "metadata": {},
     "output_type": "execute_result"
    }
   ],
   "source": [
    "ds"
   ]
  },
  {
   "cell_type": "code",
   "execution_count": 7,
   "metadata": {},
   "outputs": [
    {
     "data": {
      "text/plain": [
       "dict_keys(['leg_ele_extra', 'jud_read_compre', 'sent_pred', 'op_sum', 'jud_doc_sum', 'exam', 'sim_case_match', 'leg_case_cls', 'leg_eve_detec'])"
      ]
     },
     "execution_count": 7,
     "metadata": {},
     "output_type": "execute_result"
    }
   ],
   "source": [
    "task_ds = {}\n",
    "for task_name in set(ds['id'].apply(lambda s: s.rsplit('-')[0])):\n",
    "    task_ds[task_name] = ds[ds['id'].apply(lambda s: s.startswith(task_name))]\n",
    "task_ds.keys()"
   ]
  },
  {
   "cell_type": "code",
   "execution_count": 8,
   "metadata": {},
   "outputs": [
    {
     "name": "stdout",
     "output_type": "stream",
     "text": [
      "leg_ele_extra/leg_ele_extra.jsonl saved.\n",
      "jud_read_compre/jud_read_compre.jsonl saved.\n",
      "sent_pred/sent_pred.jsonl saved.\n",
      "op_sum/op_sum.jsonl saved.\n",
      "jud_doc_sum/jud_doc_sum.jsonl saved.\n",
      "exam/exam.jsonl saved.\n",
      "sim_case_match/sim_case_match.jsonl saved.\n",
      "leg_case_cls/leg_case_cls.jsonl saved.\n",
      "leg_eve_detec/leg_eve_detec.jsonl saved.\n"
     ]
    }
   ],
   "source": [
    "for task_name, task_df in task_ds.items():\n",
    "    saving_dir = os.path.join(task_name, f'{task_name}.jsonl')\n",
    "    os.makedirs(task_name, exist_ok=True)\n",
    "    task_df.to_json(saving_dir, orient='records', lines=True)\n",
    "    print(f'{saving_dir} saved.')"
   ]
  },
  {
   "cell_type": "code",
   "execution_count": 9,
   "metadata": {},
   "outputs": [],
   "source": [
    "test_set_ratio = 0.1"
   ]
  },
  {
   "cell_type": "code",
   "execution_count": 10,
   "metadata": {},
   "outputs": [
    {
     "name": "stdout",
     "output_type": "stream",
     "text": [
      "leg_ele_extra/leg_ele_extra_train_split.jsonl saved.\n",
      "leg_ele_extra/leg_ele_extra_test_split.jsonl saved.\n",
      "jud_read_compre/jud_read_compre_train_split.jsonl saved.\n",
      "jud_read_compre/jud_read_compre_test_split.jsonl saved.\n",
      "sent_pred/sent_pred_train_split.jsonl saved.\n",
      "sent_pred/sent_pred_test_split.jsonl saved.\n",
      "op_sum/op_sum_train_split.jsonl saved.\n",
      "op_sum/op_sum_test_split.jsonl saved.\n",
      "jud_doc_sum/jud_doc_sum_train_split.jsonl saved.\n",
      "jud_doc_sum/jud_doc_sum_test_split.jsonl saved.\n",
      "exam/exam_train_split.jsonl saved.\n",
      "exam/exam_test_split.jsonl saved.\n",
      "sim_case_match/sim_case_match_train_split.jsonl saved.\n",
      "sim_case_match/sim_case_match_test_split.jsonl saved.\n",
      "leg_case_cls/leg_case_cls_train_split.jsonl saved.\n",
      "leg_case_cls/leg_case_cls_test_split.jsonl saved.\n",
      "leg_eve_detec/leg_eve_detec_train_split.jsonl saved.\n",
      "leg_eve_detec/leg_eve_detec_test_split.jsonl saved.\n"
     ]
    }
   ],
   "source": [
    "for task_name, task_df in task_ds.items():\n",
    "    train_set_saving_dir = os.path.join(task_name, f'{task_name}_train_split.jsonl')\n",
    "    test_set_saving_dir = os.path.join(task_name, f'{task_name}_test_split.jsonl')\n",
    "    \n",
    "    test_size = int(task_df.shape[0]*test_set_ratio)\n",
    "\n",
    "    task_df[:-test_size].to_json(train_set_saving_dir, orient='records', lines=True)\n",
    "    task_df[-test_size:].to_json(test_set_saving_dir, orient='records', lines=True)\n",
    "\n",
    "    print(f'{train_set_saving_dir} saved.')\n",
    "    print(f'{test_set_saving_dir} saved.')"
   ]
  },
  {
   "cell_type": "code",
   "execution_count": null,
   "metadata": {},
   "outputs": [],
   "source": []
  }
 ],
 "metadata": {
  "kernelspec": {
   "display_name": "torch-2.1-py-3.10",
   "language": "python",
   "name": "python3"
  },
  "language_info": {
   "codemirror_mode": {
    "name": "ipython",
    "version": 3
   },
   "file_extension": ".py",
   "mimetype": "text/x-python",
   "name": "python",
   "nbconvert_exporter": "python",
   "pygments_lexer": "ipython3",
   "version": "3.10.13"
  }
 },
 "nbformat": 4,
 "nbformat_minor": 2
}
