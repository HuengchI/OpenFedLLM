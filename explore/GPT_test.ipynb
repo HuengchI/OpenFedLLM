{
 "cells": [
  {
   "cell_type": "code",
   "execution_count": 1,
   "metadata": {},
   "outputs": [
    {
     "name": "stderr",
     "output_type": "stream",
     "text": [
      "/data/huengchi/.bin/anaconda3/envs/torch-2.1-py-3.10/lib/python3.10/site-packages/tqdm/auto.py:21: TqdmWarning: IProgress not found. Please update jupyter and ipywidgets. See https://ipywidgets.readthedocs.io/en/stable/user_install.html\n",
      "  from .autonotebook import tqdm as notebook_tqdm\n"
     ]
    }
   ],
   "source": [
    "import os\n",
    "import sys\n",
    "THRID_PARTY_LIB_PATH = (\n",
    "    \"../../../SPEER/\", # esg_tools\n",
    ")\n",
    "for path in THRID_PARTY_LIB_PATH:\n",
    "    path = os.path.abspath(path)\n",
    "    if path not in sys.path:\n",
    "        sys.path.append(path)\n",
    "\n",
    "from esg_tools import metric_compute_HR, metric_compute_SGR"
   ]
  },
  {
   "cell_type": "code",
   "execution_count": null,
   "metadata": {},
   "outputs": [],
   "source": [
    "# src_txt = \"\"\"\"\"\"\n",
    "# tgt_txt = \"\"\"\"\"\"\n",
    "# gen_txt = \"\"\"\"\"\""
   ]
  },
  {
   "cell_type": "code",
   "execution_count": 8,
   "metadata": {},
   "outputs": [],
   "source": [
    "src_txt = \"\"\"Baseline artifact. Sinus bradycardia. Intraventricular conduction delay. Q-T interval prolongation. ST-T wave abnormalities. Since tracing of the rate has decreased. ST-T wave abnormalities are more marked. 11:30 AM CHEST PA  LAT Clip # Reason: fluid status 71 year old woman with AMS on HD fluid status FINAL REPORT CHEST, PA AND LATERAL Altered mental status. There has been interval increase in the now moderate-sized right- sided pleural effusion. Underlying consolidation cannot be excluded. Mild cardiomegaly is stable. There are increased interstitial markings suggestive of pulmonary vascular congestion. The left lung fields are clear. There is no pneumothorax. The osseous structures are unremarkable. Interval increase in now moderate-sized right pleural effusion and worsening CHF. Underlying consolidation cannot be excluded. Sinus bradycardia, rate 53. Left anterior hemiblock. Intraventricular conduction delay. Non-specific lateral repolarization changes. Compared with tracing of no significant change. 8:09 AM CHEST PORTABLE AP Clip # Reason: eval for progression ALTERED MENTAL STATUS 71 year old woman with cirrhosis, hypotension, and right sided effusion eval for progression FINAL REPORT AP CHEST, 8:34 A.M. Cirrhosis, hypotension and right pleural effusion. AP chest compared to and: Moderate right pleural effusion is slightly smaller today. There is no pneumothorax or left pleural effusion. Heart size is borderline enlarged. Pulmonary vasculature is engorged, but there is no edema. No pneumothorax. 11:24 AM US ABD LIMIT, SINGLE ORGAN Clip # Reason: Evaluate for ascites for possible paracentesis. ALTERED MENTAL STATUS 71 year old woman with cirrhosis NASH and acetaminophen toxicity, with altered mental status suspected hepatic encephalopathy. Evaluate for ascites for possible paracentesis. FINAL REPORT 71-year-old female with history of cirrhosis secondary to NASH and acetaminophen toxicity now with change in mental status suspected secondary to hepatic encephalopathy. Referred for assessment of ascites. Abdominal ultrasound and CT abdomen and pelvis . Focused grayscale ultrasound scanning was performed in the four abdominal quadrants to assess for ascites. There is no evidence of ascites. Incompletely evaluated is a right pleural effusion. No ultrasound evidence of ascites. Small right pleural effusion is incompletely imaged. Nursing Note 7a-7p A+Ox2, cooperative. Mostly sleeping but able to rouse to vocal, follows commands. Pupils 2mm equil sluggish. C o \"all over pain\" when repositioned. SR rare vea, HR 60s-80s. BPs stable 86-117 40s-50s, no fluids given. HO able to place piv in R AC, labs drawn. LSC, sats 92-99% on RA. Sm pleural effusion on CXR. Contact precautions for MRSA, VRE. Tmax 101.2po @ 6am, conts w low grade temps. Conts on Cipo for UTI  Rifaximin for C-diff hx. GI Obese, conts on lactulose for liver failure w lg loose bm x1. Had abd US to eval ascites, none seen. Foley patent, pt oliguric. HD q MWF, L AV fistula +thrill bruit. Liver  Renal saw today. Sugars covered per RISS. Abd folds prob +yeast, needs myconazole order. lactulose, monitor BPs  for MS changes. HD tomorrow, PICC placement. NURSING PROGRESS NOTE S:\"I WAS FEELING GOOD, WHY DID THEY MOVE ME \" O:PT FROM CC7 FOR LOW BP. RECEIVED 1L NS PRIOR TO AVRIVAL W BP NOW 90S-100S. PT ORIENTED TO SELF AND PLACE. PUPILS CONSTRICTED AT 1mm, SYMMETRICAL FACIAL MOVEMENTS, TONGUE MIDLINE. UPPER EXTREMITIES WEAK BUT EQUAL, MOVING LE WELL MHR SR 60-70SR, NO VEA, BP 88-104. DP PALP. UNABLE TO OBTAIN ADEQUATE ACCESS. R WRIST IV BLEEDING AT SITE W PT MOVING ARE FREQUENTLY. IV INSERTION ATTEMPTED BUT UNSUCCESSFUL. DR AND RESIDENT AWARE. R ARM AV FISTULA PALP THRILL, AUDIBLE BRUIT. LS CLR, O2 98 ON RA, OBESE, NON TENDER, SM LIQ STOOL HEME NEG. PT ON LACTULOSE FOR LIVER FAILURE. VERY OLIGURIC. BR W SEDIMENT. MRSA VRE +C-DIFF, ON PO CIPRO SKIN EXCORIATED, RED UNKER LEFT PANNUS FOLDS. ANTIFUNGAL CREAM APPLIED. PT FOR DIALYSIS MON, CONTINUE LACTULOSE FOR LIVER CIRRHOSIS. PT W O FURTHER HYPOTENTION. DUE FOR HD MON. CONSIDER PICC LINE FOR ANY FURTHER LENGTH OF STAY. urine C&S obtained  sent to lab- foley D C'd- presently being dialyzed- labs  blood culture also obtained  sent to lab. S- \"When will I be dialyzed \" O- see flowsheet for all objective data. SB no ectopy- HR 53-58 NIBP 83-91 29-41 MAPs 43-52 NS 250cc fluid bolus X2 given- 1 blood culture w gram + rods- contamination- surveilance cultures ordered- afebrile. awaiting hemodialysis- foley draining scant brown colored urine with sediment- U A needed  once obtained D C foley cath. lung sounds diminished @ bases, otherwise clear- resp even, non-labored- SpO2 97-100%. A&O X3- moving all extremities- pleasant  cooperative- follows command. abd large- softly distended- + bowel sounds- taking Po well- refused lactulose until dialysis done- MICU team aware- 2 loose stool on bedpan- continent today- color jaundice- glucose range 202-204- insulin given as per sliding scale. periarea reddened, sore- L groin with rash- antifungal barrier cream applied. P- dialysis today- follow blood cultures- obtain U A from foley cath when able, then D C foley- monitor vs, lung sounds, I&O and labs- offer emotional support to patient  family- keep them updated on plan of care. CCU NURSING PROGRESS NOTE S:\"I'D LIKE TO HAVE SOME TOAST\" O:PT LETHARGIC BUT EASILY AROUSABLE W VERBAL STIMULI. PT FULLY AWAKE BY 2AM, ATE 4 PIECES OF TOAST AND JELLO. MHR 60S-70S SR, +MUR, SBP DOWN TO 83 WHILE PT ASLEEP. DR. NOTIFIED. 500cc FLUID BOLUS GIVEN. PT A VERY DIFF STICK. # 20 INSERTED IN R WRIST. DP PALP BILAT. L ARM A V FISTULA W PALP THRILL + AUDIBLE BRUIT. LS W DEPENDANT CRACKLES AT R BASE, OTHERWISE CLR. SATS 94-97% ON RM AIR. +1EDMA IN LE. T MAX 99.9 TONOC. ON CIPRO FOR UTI, ON RIFAXIMIN FOR C-DIFF. BLD CX PRELIM GROWING GPR. FINAL PENDING. DR. AWARE. ABD LG DISTENDED AND SOFT. +BS. PT ALSO ON LACTULOSE. INC OF LIQ BRN STOOL QUIAC NEG. PT DUE FOR HD MON. URINE +FOR ENTERCOCCUS. PT ON CIPRO. URINE MINIMAL BROWN W SED. POC GLUC 117, NO COVERAGE AS PER SS. PERIAREA REDDENED AND SORE. LEFT GROIN TO HIP W PEELING RED RASH. ANTIFUNGAL BARRIER PROTECTION APPLIED. FOLLOW BCX, TEMP. PT IN NEED OF BETTER ACCESS. IF PICC. LAB DRAWS DURING DIALYSIS. PT NON W DIET AND LACTULOSE AT HOME, F U W SOC SVC. CCU Nursing note MICU boarder. S-\"I wish I didn't have to take that stuff. I'll be up all night pooping.\" O-see flowsheet, admit note for details. 71 y.o female c cirrhosis admitted c hepatic encephalopathy treated c lactulose. Tx to ICU s p transient hypotension responsive to FB. Several admissions , , c MS changes to lactulose noncompliance. PMHx significant for CHF, DM, ESRD on HD MWF, Cirrhosis NASH  tylenol tox. MS improved. S P dialysis tolerated 1.5L off. Tolerating SBP 80s-100 overnight. N-a ox3, MAE in bed. denies pain. CV-HR SB to NSR 50s-60, SBP 83-100 c MAP 43-55. Team aware of BP tolerating SBP 80s as pt mentating s p dialysis, BMs x5 . Left arm AV fistula. phlebotomy called to obtain am labs. Resp-LS clear to diminished. remains on RA c sats 96%. +BS, Large BMs x3 this shift s p 2200 lactulose dose. guic neg. GU-tolerated 1.5L off from dialysis. no UO. ID-afebrile. Continues on Keppra, Rifaximin. Dosed daptomycin s p HD. endo-HS BS 245. SSI. skin-barrier cream applied. jaundice. pressure areas intact. dispo-full code. plan-continue to monitor BP. f u am labs. MS improving c lactulose. pt updated on POC.\"\"\"\n",
    "tgt_txt = \"\"\"71 F with cirrhosis NASH, h o gastric angioectasia GAVE watermelon stomach with GIB, DM2, ESRD on HD MWF, diastolic CHF, HIT, seizure dx on, with mental status changes improved after lactulose administration, was in MICU for transient hypotension responsive to fluids, transferred to floor on.. 1 Hypotension: now resolved; contributed initially by several BMs, hypovolemia, UTI, HD with unknown removal of fluid. She responded well to fluids.. 2 Mental status changes: most likely secondary to hepatic encephalopathy for which the patient has had repeated admissions. Patient also has positive urine culture for what is felt to be a colonizer per ID no need to treat. Patient placed on lactulose for bowel movements per day, continued of rifaximin. Blood cultures negative except for one that was felt to be a contaminant. Alert and oriented 3 at discharge. If additional admissions, likely will be due to noncompliance as discussion with family revealed lactulose titrated to one bowel movement daily. Family educated that patient need more bowel movements per day given her liver function.. 3 Urinary Tract Infection: Vancomycin- resistant Enterococcus felt to be colonizer due to poor urine output in this patient with End Stage Renal Disease. Patient was given 2 doses of daptomycin, but ID felt if colonizer no need to treat.. 4 Effusion: likely chronic from cirrhosis. No urgency to tap.. 5 Cirrhosis NASH: increasing ascites. Continued rifaximin, ursodiol, lactulose. Stopped lasix in setting of hypotension and patient on HD for fluid control.. 6 ESRD on HD: HD on M W F. Continued Sevelamer. 7 GAVE and GIB: baseline Hct 30; now stable. No active bleeding.. 8 DM2: Insulin standing and ISS.. 9 Acute on Chronic Diastolic Heart Failure: CXR shows increasing R pleural effusion and worsening CHF. Patient on HD for fluid control.. 11 HIT: Avoided all heparin products.. 12 Seizure disorder: Continue at home dose. 13 Coagulopathy: pt received Vitamin K 5 mg PO in the ED. INR stable at 1.7.. 14 CODE: Full. 15 Disposition: Home. Family declined VNA.\"\"\"\n",
    "gen_txt = \"\"\"The patient is a 71-year-old woman with altered mental status, cirrhosis, hypotension, and right-sided effusion. She has sinus bradycardia, intraventricular conduction delay, Q-T interval prolongation, and ST-T wave abnormalities on ECG. Imaging shows moderate right pleural effusion and signs of pulmonary vascular congestion with potential underlying consolidation. She is also suspected of hepatic encephalopathy. The patient is currently on hemodialysis and receiving medical management for various comorbidities including liver failure, UTI, and C-difficile infection. She is being monitored for fluid status and hemodynamic stability, with plans for continued hemodialysis and possible PICC line placement. Nursing notes highlight stable vital signs, mental status changes, fluid balance, and skin integrity. The patient is being closely monitored and treated by the medical team to address her complex medical conditions.\"\"\""
   ]
  },
  {
   "cell_type": "code",
   "execution_count": 9,
   "metadata": {},
   "outputs": [],
   "source": [
    "sgr = metric_compute_SGR(src_txt, tgt_txt, gen_txt)\n",
    "hr = metric_compute_HR(src_txt, gen_txt)"
   ]
  },
  {
   "cell_type": "code",
   "execution_count": 10,
   "metadata": {},
   "outputs": [
    {
     "name": "stdout",
     "output_type": "stream",
     "text": [
      "SGR:\t0.9090909090909091\n",
      "HR:\t0.5769230769230769\n"
     ]
    }
   ],
   "source": [
    "print(f'SGR:\\t{sgr}')\n",
    "print(f'HR:\\t{hr}')"
   ]
  },
  {
   "cell_type": "code",
   "execution_count": null,
   "metadata": {},
   "outputs": [],
   "source": []
  }
 ],
 "metadata": {
  "kernelspec": {
   "display_name": "torch-2.1-py-3.10",
   "language": "python",
   "name": "python3"
  },
  "language_info": {
   "codemirror_mode": {
    "name": "ipython",
    "version": 3
   },
   "file_extension": ".py",
   "mimetype": "text/x-python",
   "name": "python",
   "nbconvert_exporter": "python",
   "pygments_lexer": "ipython3",
   "version": "3.10.13"
  }
 },
 "nbformat": 4,
 "nbformat_minor": 2
}
