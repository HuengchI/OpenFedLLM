{
 "cells": [
  {
   "cell_type": "code",
   "execution_count": 1,
   "metadata": {},
   "outputs": [],
   "source": [
    "%load_ext autoreload\n",
    "%autoreload 2"
   ]
  },
  {
   "cell_type": "code",
   "execution_count": 2,
   "metadata": {},
   "outputs": [],
   "source": [
    "import os\n",
    "from functools import partial\n",
    "import pandas as pd\n",
    "import numpy as np\n",
    "from tqdm.auto import tqdm\n",
    "\n",
    "os.environ['CUDA_VISIBLE_DEVICES'] = str(2)\n",
    "\n",
    "import sys\n",
    "THRID_PARTY_LIB_PATH = (\n",
    "    \"../../\",\n",
    "    \"/data/huengchi/Research/QuestEval\",\n",
    "    \"/data/huengchi/.bin/anaconda3/envs/torch-2.1-py-3.10/lib/python3.10/site-packages\",\n",
    ")\n",
    "for path in THRID_PARTY_LIB_PATH:\n",
    "    path = os.path.abspath(path)\n",
    "    if path not in sys.path:\n",
    "        sys.path.insert(0, path)\n",
    "    else:\n",
    "        sys.path.remove(path)\n",
    "        sys.path.insert(0, path)\n",
    "\n",
    "from utils.metrics_predefined import (\n",
    "    # FactKBMetric,\n",
    "    # QuestEvalMetric,\n",
    "    SummaCMetric,\n",
    ")\n",
    "from utils.utils import make_df_id_column, make_df_src_column"
   ]
  },
  {
   "cell_type": "code",
   "execution_count": 3,
   "metadata": {},
   "outputs": [],
   "source": [
    "test_data = pd.read_json('//data/huengchi/Datasets/MEDIQA2021/Task3/dev.json', dtype=False)\n",
    "# gen_data = \n",
    "id_spec = \"study_id, subject_id\"\n",
    "metric_src_spec = \"findings, background\"\n",
    "metric_tgt_spec = \"impression\""
   ]
  },
  {
   "cell_type": "code",
   "execution_count": 4,
   "metadata": {},
   "outputs": [
    {
     "data": {
      "text/html": [
       "<div>\n",
       "<style scoped>\n",
       "    .dataframe tbody tr th:only-of-type {\n",
       "        vertical-align: middle;\n",
       "    }\n",
       "\n",
       "    .dataframe tbody tr th {\n",
       "        vertical-align: top;\n",
       "    }\n",
       "\n",
       "    .dataframe thead th {\n",
       "        text-align: right;\n",
       "    }\n",
       "</style>\n",
       "<table border=\"1\" class=\"dataframe\">\n",
       "  <thead>\n",
       "    <tr style=\"text-align: right;\">\n",
       "      <th></th>\n",
       "      <th>id</th>\n",
       "      <th>src</th>\n",
       "      <th>tgt</th>\n",
       "    </tr>\n",
       "  </thead>\n",
       "  <tbody>\n",
       "    <tr>\n",
       "      <th>0</th>\n",
       "      <td>51319575_14895513</td>\n",
       "      <td>Heart size is normal. The mediastinal and hila...</td>\n",
       "      <td>No acute cardiopulmonary abnormality.</td>\n",
       "    </tr>\n",
       "    <tr>\n",
       "      <th>1</th>\n",
       "      <td>55445311_12837356</td>\n",
       "      <td>Semi-upright portable view of the chest demons...</td>\n",
       "      <td>ET tube terminates 2 cm above the carina, retr...</td>\n",
       "    </tr>\n",
       "    <tr>\n",
       "      <th>2</th>\n",
       "      <td>55362942_10222191</td>\n",
       "      <td>Stability of the severe bilateral pleural effu...</td>\n",
       "      <td>There is no significant change since the previ...</td>\n",
       "    </tr>\n",
       "    <tr>\n",
       "      <th>3</th>\n",
       "      <td>54120968_14898984</td>\n",
       "      <td>In comparison to the chest radiograph obtained...</td>\n",
       "      <td>Unchanged, mild pulmonary edema. No radiograph...</td>\n",
       "    </tr>\n",
       "    <tr>\n",
       "      <th>4</th>\n",
       "      <td>56757236_18173974</td>\n",
       "      <td>There is no focal consolidation, pleural effus...</td>\n",
       "      <td>No evidence of acute pulmonary process. Modera...</td>\n",
       "    </tr>\n",
       "    <tr>\n",
       "      <th>...</th>\n",
       "      <td>...</td>\n",
       "      <td>...</td>\n",
       "      <td>...</td>\n",
       "    </tr>\n",
       "    <tr>\n",
       "      <th>1995</th>\n",
       "      <td>51118387_10053918</td>\n",
       "      <td>The lungs are clear without focal consolidatio...</td>\n",
       "      <td>No acute cardiopulmonary process.</td>\n",
       "    </tr>\n",
       "    <tr>\n",
       "      <th>1996</th>\n",
       "      <td>53706588_11209060</td>\n",
       "      <td>Frontal and lateral views of the chest were ob...</td>\n",
       "      <td>No acute cardiopulmonary process.</td>\n",
       "    </tr>\n",
       "    <tr>\n",
       "      <th>1997</th>\n",
       "      <td>53987789_12645334</td>\n",
       "      <td>No change in the position of the bilateral pig...</td>\n",
       "      <td>Increased opacification of the left lower lung...</td>\n",
       "    </tr>\n",
       "    <tr>\n",
       "      <th>1998</th>\n",
       "      <td>52230820_12632853</td>\n",
       "      <td>One portable AP upright view of the chest. Mod...</td>\n",
       "      <td>Increased right pleural effusion and mild inte...</td>\n",
       "    </tr>\n",
       "    <tr>\n",
       "      <th>1999</th>\n",
       "      <td>57609804_13791337</td>\n",
       "      <td>Upright portable AP view of the chest was obta...</td>\n",
       "      <td>Patient rotated to the right and low lung volu...</td>\n",
       "    </tr>\n",
       "  </tbody>\n",
       "</table>\n",
       "<p>2000 rows × 3 columns</p>\n",
       "</div>"
      ],
      "text/plain": [
       "                     id                                                src  \\\n",
       "0     51319575_14895513  Heart size is normal. The mediastinal and hila...   \n",
       "1     55445311_12837356  Semi-upright portable view of the chest demons...   \n",
       "2     55362942_10222191  Stability of the severe bilateral pleural effu...   \n",
       "3     54120968_14898984  In comparison to the chest radiograph obtained...   \n",
       "4     56757236_18173974  There is no focal consolidation, pleural effus...   \n",
       "...                 ...                                                ...   \n",
       "1995  51118387_10053918  The lungs are clear without focal consolidatio...   \n",
       "1996  53706588_11209060  Frontal and lateral views of the chest were ob...   \n",
       "1997  53987789_12645334  No change in the position of the bilateral pig...   \n",
       "1998  52230820_12632853  One portable AP upright view of the chest. Mod...   \n",
       "1999  57609804_13791337  Upright portable AP view of the chest was obta...   \n",
       "\n",
       "                                                    tgt  \n",
       "0                 No acute cardiopulmonary abnormality.  \n",
       "1     ET tube terminates 2 cm above the carina, retr...  \n",
       "2     There is no significant change since the previ...  \n",
       "3     Unchanged, mild pulmonary edema. No radiograph...  \n",
       "4     No evidence of acute pulmonary process. Modera...  \n",
       "...                                                 ...  \n",
       "1995                  No acute cardiopulmonary process.  \n",
       "1996                  No acute cardiopulmonary process.  \n",
       "1997  Increased opacification of the left lower lung...  \n",
       "1998  Increased right pleural effusion and mild inte...  \n",
       "1999  Patient rotated to the right and low lung volu...  \n",
       "\n",
       "[2000 rows x 3 columns]"
      ]
     },
     "execution_count": 4,
     "metadata": {},
     "output_type": "execute_result"
    }
   ],
   "source": [
    "test_data = test_data.apply(partial(make_df_id_column, id_spec=id_spec),\n",
    "                            axis=1)\n",
    "test_data = test_data.apply(partial(make_df_src_column, src_spec=metric_src_spec),\n",
    "                            axis=1)\n",
    "test_data['tgt'] = test_data[metric_tgt_spec]\n",
    "test_data = test_data[['id', 'src', 'tgt']]\n",
    "test_data"
   ]
  },
  {
   "cell_type": "code",
   "execution_count": 5,
   "metadata": {},
   "outputs": [
    {
     "name": "stdout",
     "output_type": "stream",
     "text": [
      "loading preloaded_summac_scorer_model...\n"
     ]
    },
    {
     "name": "stderr",
     "output_type": "stream",
     "text": [
      "--2024-04-09 11:30:27--  https://github.com/tingofurro/summac/raw/master/summac_conv_vitc_sent_perc_e.bin\n",
      "Connecting to 10.249.42.241:41122... connected.\n",
      "Proxy request sent, awaiting response... 302 Found\n",
      "Location: https://raw.githubusercontent.com/tingofurro/summac/master/summac_conv_vitc_sent_perc_e.bin [following]\n",
      "--2024-04-09 11:30:28--  https://raw.githubusercontent.com/tingofurro/summac/master/summac_conv_vitc_sent_perc_e.bin\n",
      "Connecting to 10.249.42.241:41122... connected.\n",
      "Proxy request sent, awaiting response... "
     ]
    },
    {
     "name": "stdout",
     "output_type": "stream",
     "text": [
      "<All keys matched successfully>\n"
     ]
    },
    {
     "name": "stderr",
     "output_type": "stream",
     "text": [
      "200 OK\n",
      "Length: 1811 (1.8K) [application/octet-stream]\n",
      "Saving to: ‘summac_conv_vitc_sent_perc_e.bin’\n",
      "\n",
      "     0K .                                                     100% 14.8M=0s\n",
      "\n",
      "2024-04-09 11:30:28 (14.8 MB/s) - ‘summac_conv_vitc_sent_perc_e.bin’ saved [1811/1811]\n",
      "\n"
     ]
    }
   ],
   "source": [
    "# factkb_scorer = FactKBMetric()\n",
    "# questeval_scorer = QuestEvalMetric()\n",
    "summac_scorer = SummaCMetric()"
   ]
  },
  {
   "cell_type": "code",
   "execution_count": 7,
   "metadata": {},
   "outputs": [],
   "source": [
    "def compute_metric(row):\n",
    "    # factkb_dict = factkb_scorer([row['src']], [row['tgt']])\n",
    "    # row['factkb'] = factkb_dict['score_details_per_sample']['factkb'][0]\n",
    "\n",
    "    # questeval_dict = questeval_scorer([row['src']], [row['tgt']])\n",
    "    # row['questeval'] = questeval_dict['score_details_per_sample']['questeval'][0]\n",
    "\n",
    "    summac_dict = summac_scorer([row['src']], [row['tgt']])\n",
    "    row['summac_zs'] = summac_dict['score_details_per_sample']['SummaC-ZS'][0]\n",
    "    row['summac_conv'] = summac_dict['score_details_per_sample']['SummaC-Conv'][0]\n",
    "\n",
    "    return row"
   ]
  },
  {
   "cell_type": "code",
   "execution_count": 8,
   "metadata": {},
   "outputs": [
    {
     "data": {
      "application/vnd.jupyter.widget-view+json": {
       "model_id": "19f58f6e92354867b5ab87468a29cdd7",
       "version_major": 2,
       "version_minor": 0
      },
      "text/plain": [
       "  0%|          | 0/2000 [00:00<?, ?it/s]"
      ]
     },
     "metadata": {},
     "output_type": "display_data"
    },
    {
     "name": "stderr",
     "output_type": "stream",
     "text": [
      "/data/huengchi/.bin/anaconda3/envs/torch-2.1-py-3.10/lib/python3.10/site-packages/summac/model_summac.py:298: UserWarning: Creating a tensor from a list of numpy.ndarrays is extremely slow. Please consider converting the list to a single numpy.ndarray with numpy.array() before converting to a tensor. (Triggered internally at ../torch/csrc/utils/tensor_new.cpp:261.)\n",
      "  histograms = torch.FloatTensor(histograms).to(self.device)\n"
     ]
    },
    {
     "name": "stdout",
     "output_type": "stream",
     "text": [
      "{'SummaC-ZS': -0.505126953125, 'SummaC-Conv': 0.31903013586997986, 'score_details_per_sample': {'SummaC-ZS': [-0.505126953125], 'SummaC-Conv': [0.31903013586997986]}}\n"
     ]
    }
   ],
   "source": [
    "tqdm.pandas()\n",
    "test_data = test_data.progress_apply(compute_metric,\n",
    "                                     axis=1)"
   ]
  },
  {
   "cell_type": "code",
   "execution_count": 11,
   "metadata": {},
   "outputs": [
    {
     "name": "stdout",
     "output_type": "stream",
     "text": [
      "summac_zs \t -0.1886760836234168\n",
      "summac_conv \t 0.3889666463285685\n"
     ]
    },
    {
     "data": {
      "image/png": "[encoded data removed]",
      "text/plain": [
       "<Figure size 640x480 with 1 Axes>"
      ]
     },
     "metadata": {},
     "output_type": "display_data"
    }
   ],
   "source": [
    "for k in ('summac_zs', 'summac_conv'):\n",
    "    print(k, '\\t', np.mean(test_data[k]))\n",
    "    test_data[k].plot.hist(bins=100)"
   ]
  },
  {
   "cell_type": "code",
   "execution_count": null,
   "metadata": {},
   "outputs": [],
   "source": []
  }
 ],
 "metadata": {
  "kernelspec": {
   "display_name": "torch-2.1-py-3.10",
   "language": "python",
   "name": "python3"
  },
  "language_info": {
   "codemirror_mode": {
    "name": "ipython",
    "version": 3
   },
   "file_extension": ".py",
   "mimetype": "text/x-python",
   "name": "python",
   "nbconvert_exporter": "python",
   "pygments_lexer": "ipython3",
   "version": "3.10.13"
  }
 },
 "nbformat": 4,
 "nbformat_minor": 2
}
